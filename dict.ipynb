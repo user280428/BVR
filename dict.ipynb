{
 "cells": [
  {
   "metadata": {
    "ExecuteTime": {
     "end_time": "2024-12-08T16:03:27.381631Z",
     "start_time": "2024-12-08T16:03:27.196115Z"
    }
   },
   "cell_type": "code",
   "source": "from periodictable import *",
   "id": "68edab527d0669cc",
   "outputs": [],
   "execution_count": 38
  },
  {
   "metadata": {
    "ExecuteTime": {
     "end_time": "2024-12-08T01:17:03.338985Z",
     "start_time": "2024-12-08T01:17:03.332002Z"
    }
   },
   "cell_type": "code",
   "source": "dct = {'C': 3, 'H': 5, 'N': 3, 'O': 9}",
   "id": "initial_id",
   "outputs": [],
   "execution_count": 125
  },
  {
   "metadata": {
    "ExecuteTime": {
     "end_time": "2024-12-08T01:17:03.620208Z",
     "start_time": "2024-12-08T01:17:03.603883Z"
    }
   },
   "cell_type": "code",
   "source": [
    "for k, v in dct.items():\n",
    "    print(f\"{v} * {k}\")"
   ],
   "id": "d9da4b45f6950c24",
   "outputs": [
    {
     "name": "stdout",
     "output_type": "stream",
     "text": [
      "3 * C\n",
      "5 * H\n",
      "3 * N\n",
      "9 * O\n"
     ]
    }
   ],
   "execution_count": 126
  },
  {
   "metadata": {
    "ExecuteTime": {
     "end_time": "2024-12-08T01:17:04.085508Z",
     "start_time": "2024-12-08T01:17:04.076532Z"
    }
   },
   "cell_type": "code",
   "source": [
    "def dict_to_str(dct, brackets=True):\n",
    "    if len(dct) == 1:\n",
    "        brackets = False\n",
    "    dict_str = \"\"\n",
    "    if brackets:\n",
    "        dict_str += \"(\"\n",
    "    i = 1\n",
    "    for k, v in dct.items():\n",
    "        i += 1\n",
    "        if v == 0:\n",
    "            continue\n",
    "        elif v == 1:\n",
    "            dict_str += k\n",
    "        else:\n",
    "            dict_str += f\"{round(v,3)}*{k}\"\n",
    "        if i <= len(dct):\n",
    "            dict_str += \" + \"\n",
    "\n",
    "    if brackets:\n",
    "        dict_str += \")\"\n",
    "    return dict_str"
   ],
   "id": "f5201a9a814e4f0d",
   "outputs": [],
   "execution_count": 127
  },
  {
   "metadata": {
    "ExecuteTime": {
     "end_time": "2024-12-08T01:17:04.654453Z",
     "start_time": "2024-12-08T01:17:04.643485Z"
    }
   },
   "cell_type": "code",
   "source": "dict_to_str(dct)",
   "id": "4912af848308126a",
   "outputs": [
    {
     "data": {
      "text/plain": [
       "'(3*C + 5*H + 3*N + 9*O)'"
      ]
     },
     "execution_count": 128,
     "metadata": {},
     "output_type": "execute_result"
    }
   ],
   "execution_count": 128
  },
  {
   "metadata": {
    "ExecuteTime": {
     "end_time": "2024-12-08T00:32:05.439013Z",
     "start_time": "2024-12-08T00:32:05.419068Z"
    }
   },
   "cell_type": "code",
   "source": "len(dct)",
   "id": "d10c47c051e1e816",
   "outputs": [
    {
     "data": {
      "text/plain": [
       "4"
      ]
     },
     "execution_count": 6,
     "metadata": {},
     "output_type": "execute_result"
    }
   ],
   "execution_count": 6
  },
  {
   "metadata": {
    "ExecuteTime": {
     "end_time": "2024-12-08T00:46:06.192223Z",
     "start_time": "2024-12-08T00:46:06.178801Z"
    }
   },
   "cell_type": "code",
   "source": [
    "mole_in_kilo_1 = 0.661\n",
    "mole_in_kilo_2 = 10.25\n",
    "mole_in_kilo_3 = 1.111"
   ],
   "id": "9caabbeb4bb41224",
   "outputs": [],
   "execution_count": 34
  },
  {
   "metadata": {
    "ExecuteTime": {
     "end_time": "2024-12-08T00:46:06.423029Z",
     "start_time": "2024-12-08T00:46:06.407073Z"
    }
   },
   "cell_type": "code",
   "source": [
    "dct_1 = {'C': 3, 'H': 5, 'N': 3, 'O': 9}\n",
    "dct_2 = {'N': 2, 'O': 3, 'H': 4}\n",
    "dct_3 = {'Al': 1}\n",
    "dct_list = [dct_1, dct_2, dct_3]"
   ],
   "id": "ea7a4f8905f4ecad",
   "outputs": [],
   "execution_count": 35
  },
  {
   "metadata": {
    "ExecuteTime": {
     "end_time": "2024-12-08T00:46:06.654569Z",
     "start_time": "2024-12-08T00:46:06.647306Z"
    }
   },
   "cell_type": "code",
   "source": "all_keys = list(set(dct_1.keys()) | set(dct_2.keys()) | set(dct_3.keys()))",
   "id": "d648f1faed0d2142",
   "outputs": [],
   "execution_count": 36
  },
  {
   "metadata": {
    "ExecuteTime": {
     "end_time": "2024-12-08T00:46:06.980189Z",
     "start_time": "2024-12-08T00:46:06.973208Z"
    }
   },
   "cell_type": "code",
   "source": "all_keys",
   "id": "1ed99468e2a0976d",
   "outputs": [
    {
     "data": {
      "text/plain": [
       "['C', 'H', 'O', 'Al', 'N']"
      ]
     },
     "execution_count": 37,
     "metadata": {},
     "output_type": "execute_result"
    }
   ],
   "execution_count": 37
  },
  {
   "metadata": {
    "ExecuteTime": {
     "end_time": "2024-12-08T00:54:45.703666Z",
     "start_time": "2024-12-08T00:54:45.690088Z"
    }
   },
   "cell_type": "code",
   "source": [
    "main_dct = {}\n",
    "for el in all_keys:\n",
    "    main_dct[el] = []\n",
    "    for dct in dct_list:\n",
    "        if el in dct:\n",
    "            main_dct[el].append(dct[el])\n",
    "        else:\n",
    "            main_dct[el].append(0)"
   ],
   "id": "5cc6a1d3841675e6",
   "outputs": [],
   "execution_count": 52
  },
  {
   "metadata": {
    "ExecuteTime": {
     "end_time": "2024-12-08T01:02:02.110997Z",
     "start_time": "2024-12-08T01:02:02.092856Z"
    }
   },
   "cell_type": "code",
   "source": "moles_list = [mole_in_kilo_1, mole_in_kilo_2, mole_in_kilo_3]",
   "id": "bef88cadf89c8a92",
   "outputs": [],
   "execution_count": 56
  },
  {
   "metadata": {
    "ExecuteTime": {
     "end_time": "2024-12-08T01:02:02.359983Z",
     "start_time": "2024-12-08T01:02:02.347469Z"
    }
   },
   "cell_type": "code",
   "source": "main_dct",
   "id": "7a32eb15ad59627f",
   "outputs": [
    {
     "data": {
      "text/plain": [
       "{'C': [3, 0, 0],\n",
       " 'H': [5, 4, 0],\n",
       " 'O': [9, 3, 0],\n",
       " 'Al': [0, 0, 1],\n",
       " 'N': [3, 2, 0]}"
      ]
     },
     "execution_count": 57,
     "metadata": {},
     "output_type": "execute_result"
    }
   ],
   "execution_count": 57
  },
  {
   "metadata": {
    "ExecuteTime": {
     "end_time": "2024-12-08T01:25:30.572024Z",
     "start_time": "2024-12-08T01:25:30.562048Z"
    }
   },
   "cell_type": "code",
   "source": [
    "def gram_atoms(mole_in_kilo_1, mole_in_kilo_2, mole_in_kilo_3,\n",
    "               dct_1, dct_2, dct_3):\n",
    "    dct_list = [dct_1, dct_2, dct_3]\n",
    "    moles_list = [mole_in_kilo_1, mole_in_kilo_2, mole_in_kilo_3]\n",
    "    all_keys = list(set(dct_1.keys()) | set(dct_2.keys()) | set(dct_3.keys()))\n",
    "    main_dct = {}\n",
    "    for el in all_keys:\n",
    "        main_dct[el] = []\n",
    "        for dct in dct_list:\n",
    "            if el in dct:\n",
    "                main_dct[el].append(dct[el])\n",
    "            else:\n",
    "                main_dct[el].append(0)\n",
    "    \n",
    "    str_list = []\n",
    "    for k, vs in main_dct.items():\n",
    "        num = 0\n",
    "        string = \"\"\n",
    "        string += f\"{k} = \"\n",
    "        j = 0\n",
    "        for i, v in enumerate(vs):\n",
    "            if v == 0:\n",
    "                continue\n",
    "            if j > 0:\n",
    "                string += \" + \"\n",
    "            j += 1\n",
    "            num += moles_list[i]*v\n",
    "            string += f\"{moles_list[i]}*{v}\"\n",
    "        string += f\" = {num}\"\n",
    "        str_list.append(string)\n",
    "    return str_list"
   ],
   "id": "12da3111c2f97dea",
   "outputs": [],
   "execution_count": 163
  },
  {
   "metadata": {
    "ExecuteTime": {
     "end_time": "2024-12-08T01:25:30.836809Z",
     "start_time": "2024-12-08T01:25:30.818857Z"
    }
   },
   "cell_type": "code",
   "source": "str_list = gram_atoms(mole_in_kilo_1, mole_in_kilo_2, mole_in_kilo_3, dct_1, dct_2, dct_3)",
   "id": "c3b1fa0d45d42201",
   "outputs": [],
   "execution_count": 164
  },
  {
   "metadata": {
    "ExecuteTime": {
     "end_time": "2024-12-08T01:25:32.029307Z",
     "start_time": "2024-12-08T01:25:32.010369Z"
    }
   },
   "cell_type": "code",
   "source": "str_list",
   "id": "35951e8cb1f49c5",
   "outputs": [
    {
     "data": {
      "text/plain": [
       "['C = 0.661*3 = 1.983',\n",
       " 'H = 0.661*5 + 10.25*4 = 44.305',\n",
       " 'O = 0.661*9 + 10.25*3 = 36.699',\n",
       " 'Al = 1.111*1 = 1.111',\n",
       " 'N = 0.661*3 + 10.25*2 = 22.483']"
      ]
     },
     "execution_count": 165,
     "metadata": {},
     "output_type": "execute_result"
    }
   ],
   "execution_count": 165
  },
  {
   "metadata": {
    "ExecuteTime": {
     "end_time": "2024-12-08T09:14:20.775864Z",
     "start_time": "2024-12-08T09:14:20.763865Z"
    }
   },
   "cell_type": "code",
   "source": [
    "initial_mole_dict = {\"C\": 0,\"H\": 0,\"N\": 0,\"O\": 0,\"Al\": 0}\n",
    "subst_1_dict = {'C': 3, 'H': 5, 'N': 3, 'O': 9}\n",
    "subst_2_dict = {'N': 2, 'O': 3, 'H': 4}\n",
    "subst_3_dict = {'Al': 1}"
   ],
   "id": "bacb75d525885061",
   "outputs": [],
   "execution_count": 3
  },
  {
   "metadata": {
    "ExecuteTime": {
     "end_time": "2024-12-08T09:14:40.990709Z",
     "start_time": "2024-12-08T09:14:40.971761Z"
    }
   },
   "cell_type": "code",
   "source": [
    "for i in initial_mole_dict:\n",
    "    a = 0\n",
    "    for dct in [subst_1_dict, subst_2_dict, subst_3_dict]:\n",
    "        \n",
    "        for k, v in dct.items():\n",
    "            if k == i:\n",
    "                a += v\n",
    "    initial_mole_dict[i] = a\n",
    "\n"
   ],
   "id": "23ebed3484465ea",
   "outputs": [],
   "execution_count": 6
  },
  {
   "metadata": {
    "ExecuteTime": {
     "end_time": "2024-12-08T09:48:42.081486Z",
     "start_time": "2024-12-08T09:48:42.070516Z"
    }
   },
   "cell_type": "code",
   "source": [
    "initial_mole_dict\n",
    "mole_in_kilo_1 = 0.661\n",
    "mole_in_kilo_2 = 10.25\n",
    "mole_in_kilo_3 = 1.111"
   ],
   "id": "1379686657810d0f",
   "outputs": [],
   "execution_count": 11
  },
  {
   "metadata": {
    "ExecuteTime": {
     "end_time": "2024-12-08T09:48:43.186619Z",
     "start_time": "2024-12-08T09:48:43.166567Z"
    }
   },
   "cell_type": "code",
   "source": [
    "def count_brutto_formula_dict():\n",
    "    initial_mole_dict = {\"C\": 0, \"H\": 0, \"N\": 0, \"O\": 0, \"Al\": 0}\n",
    "    global subst_1_dict\n",
    "    global subst_2_dict\n",
    "    global subst_3_dict\n",
    "    global mole_in_kilo_1\n",
    "    global mole_in_kilo_2\n",
    "    global mole_in_kilo_3\n",
    "    \n",
    "    moles_list = [mole_in_kilo_1, mole_in_kilo_2, mole_in_kilo_3]\n",
    "    \n",
    "    for el in initial_mole_dict:\n",
    "        a = 0\n",
    "        for i, dct in enumerate([subst_1_dict, subst_2_dict, subst_3_dict]):\n",
    "            for k, v in dct.items():\n",
    "                if k == el:\n",
    "                    a += v * moles_list[i]\n",
    "        initial_mole_dict[el] = a\n",
    "        \n",
    "    return initial_mole_dict\n",
    "\n",
    "initial_mole_dict = count_brutto_formula_dict()"
   ],
   "id": "a03707e5b0bdecbb",
   "outputs": [],
   "execution_count": 12
  },
  {
   "metadata": {
    "ExecuteTime": {
     "end_time": "2024-12-08T10:00:32.271773Z",
     "start_time": "2024-12-08T10:00:32.258832Z"
    }
   },
   "cell_type": "code",
   "source": [
    "d = initial_mole_dict.copy()\n",
    "d"
   ],
   "id": "2bbbb88a4e3e4650",
   "outputs": [
    {
     "data": {
      "text/plain": [
       "{'C': 1.983, 'H': 44.305, 'N': 22.483, 'O': 36.699, 'Al': 1.111}"
      ]
     },
     "execution_count": 16,
     "metadata": {},
     "output_type": "execute_result"
    }
   ],
   "execution_count": 16
  },
  {
   "metadata": {
    "ExecuteTime": {
     "end_time": "2024-12-08T10:05:59.527847Z",
     "start_time": "2024-12-08T10:05:59.513231Z"
    }
   },
   "cell_type": "code",
   "source": [
    "def count_oxygen_balance():\n",
    "    global initial_mole_dict\n",
    "    d = initial_mole_dict.copy()\n",
    "    oxygen_balance = (d[\"O\"] - (2 * d[\"C\"] + 0.5 * d[\"H\"] + 1.5 * d[\"Al\"]))*16/1000\n",
    "    oxygen_koef =  d[\"O\"]/(2 * d[\"C\"] + 0.5 * d[\"H\"] + 1.5 * d[\"Al\"])\n",
    "    return {\"ox_balance\": oxygen_balance, \"ox_coef\": oxygen_koef}"
   ],
   "id": "13e6334872ed00c0",
   "outputs": [],
   "execution_count": 26
  },
  {
   "metadata": {
    "ExecuteTime": {
     "end_time": "2024-12-08T10:05:59.978238Z",
     "start_time": "2024-12-08T10:05:59.955092Z"
    }
   },
   "cell_type": "code",
   "source": [
    "oxygen_balance = (d[\"O\"] - (2 * d[\"C\"] + 0.5 * d[\"H\"] + 1.5 * d[\"Al\"]))*16/1000\n",
    "oxygen_koef =  d[\"O\"]/(2 * d[\"C\"] + 0.5 * d[\"H\"] + 1.5 * d[\"Al\"])\n",
    "oxygen_balance"
   ],
   "id": "706ad1d60b6fc5ff",
   "outputs": [
    {
     "data": {
      "text/plain": [
       "0.14262399999999997"
      ]
     },
     "execution_count": 27,
     "metadata": {},
     "output_type": "execute_result"
    }
   ],
   "execution_count": 27
  },
  {
   "metadata": {
    "ExecuteTime": {
     "end_time": "2024-12-08T10:06:04.413694Z",
     "start_time": "2024-12-08T10:06:04.393748Z"
    }
   },
   "cell_type": "code",
   "source": "count_oxygen_balance()",
   "id": "ce2c6c632125e563",
   "outputs": [
    {
     "data": {
      "text/plain": [
       "{'ox_balance': 0.14262399999999997, 'ox_coef': 1.3208205866474716}"
      ]
     },
     "execution_count": 29,
     "metadata": {},
     "output_type": "execute_result"
    }
   ],
   "execution_count": 29
  },
  {
   "metadata": {
    "ExecuteTime": {
     "end_time": "2024-12-08T10:35:12.007218Z",
     "start_time": "2024-12-08T10:35:12.000210Z"
    }
   },
   "cell_type": "code",
   "source": [
    "oxygen_balance_str = f'[{d[\"O\"]} - (2 * {d[\"C\"]} + 0.5 * {d[\"H\"]} + 1.5 * {d[\"Al\"]})] * 16/1000'\n",
    "oxygen_balance_str"
   ],
   "id": "72754376b57c68ee",
   "outputs": [
    {
     "data": {
      "text/plain": [
       "'[36.699 - (2 * 1.983 + 0.5 * 44.305 + 1.5 * 1.111)] * 16/1000'"
      ]
     },
     "execution_count": 33,
     "metadata": {},
     "output_type": "execute_result"
    }
   ],
   "execution_count": 33
  },
  {
   "metadata": {
    "ExecuteTime": {
     "end_time": "2024-12-08T10:38:21.395396Z",
     "start_time": "2024-12-08T10:38:21.384426Z"
    }
   },
   "cell_type": "code",
   "source": [
    "oxygen_koef_str = f'{d[\"O\"]}/(2 * {d[\"C\"]} + 0.5 * {d[\"H\"]} + 1.5 * {d[\"Al\"]})'\n",
    "oxygen_koef_str"
   ],
   "id": "7c79fae8ca1b7f7e",
   "outputs": [
    {
     "data": {
      "text/plain": [
       "'36.699/(2 * 1.983 + 0.5 * 44.305 + 1.5 * 1.111)'"
      ]
     },
     "execution_count": 34,
     "metadata": {},
     "output_type": "execute_result"
    }
   ],
   "execution_count": 34
  },
  {
   "metadata": {
    "ExecuteTime": {
     "end_time": "2024-12-08T15:57:45.414621Z",
     "start_time": "2024-12-08T15:57:45.399660Z"
    }
   },
   "cell_type": "code",
   "source": "initial_mole_dict = count_brutto_formula_dict()",
   "id": "79c38b17c5085c10",
   "outputs": [],
   "execution_count": 35
  },
  {
   "metadata": {
    "ExecuteTime": {
     "end_time": "2024-12-08T15:57:48.176693Z",
     "start_time": "2024-12-08T15:57:48.156747Z"
    }
   },
   "cell_type": "code",
   "source": "initial_mole_dict",
   "id": "7001a4dced0e7ccd",
   "outputs": [
    {
     "data": {
      "text/plain": [
       "{'C': 1.983, 'H': 44.305, 'N': 22.483, 'O': 36.699, 'Al': 1.111}"
      ]
     },
     "execution_count": 36,
     "metadata": {},
     "output_type": "execute_result"
    }
   ],
   "execution_count": 36
  },
  {
   "metadata": {
    "ExecuteTime": {
     "end_time": "2024-12-08T16:06:34.683705Z",
     "start_time": "2024-12-08T16:06:34.674704Z"
    }
   },
   "cell_type": "code",
   "source": [
    "def total_mas_counter_str():\n",
    "    global initial_mole_dict\n",
    "    \n",
    "    total_mass = 0\n",
    "    main_str = \"\"\n",
    "    i = 1\n",
    "    for k, v in initial_mole_dict.items():\n",
    "        total_mass += v * round(elements.symbol(k).mass)\n",
    "        main_str += f\"{v} * {round(elements.symbol(k).mass)}\"\n",
    "        \n",
    "        if i < len(initial_mole_dict):\n",
    "            main_str += \" + \"\n",
    "        i += 1"
   ],
   "id": "3086b2f5b91fd583",
   "outputs": [],
   "execution_count": 52
  },
  {
   "metadata": {
    "ExecuteTime": {
     "end_time": "2024-12-08T16:06:34.961873Z",
     "start_time": "2024-12-08T16:06:34.954867Z"
    }
   },
   "cell_type": "code",
   "source": "total_mass",
   "id": "7fbb69588f5d038f",
   "outputs": [
    {
     "data": {
      "text/plain": [
       "1000.044"
      ]
     },
     "execution_count": 53,
     "metadata": {},
     "output_type": "execute_result"
    }
   ],
   "execution_count": 53
  },
  {
   "metadata": {
    "ExecuteTime": {
     "end_time": "2024-12-08T16:06:35.380599Z",
     "start_time": "2024-12-08T16:06:35.370623Z"
    }
   },
   "cell_type": "code",
   "source": "main_str",
   "id": "6a6f3837f5401d0c",
   "outputs": [
    {
     "data": {
      "text/plain": [
       "'1.983 * 12 + 44.305 * 1 + 22.483 * 14 + 36.699 * 16 + 1.111 * 27'"
      ]
     },
     "execution_count": 54,
     "metadata": {},
     "output_type": "execute_result"
    }
   ],
   "execution_count": 54
  },
  {
   "metadata": {
    "ExecuteTime": {
     "end_time": "2024-12-08T16:06:35.751747Z",
     "start_time": "2024-12-08T16:06:35.742772Z"
    }
   },
   "cell_type": "code",
   "source": "",
   "id": "66984beaa315ff13",
   "outputs": [],
   "execution_count": 54
  },
  {
   "metadata": {},
   "cell_type": "code",
   "outputs": [],
   "execution_count": null,
   "source": "",
   "id": "ec300e2cd30fd74f"
  }
 ],
 "metadata": {
  "kernelspec": {
   "display_name": "Python 3",
   "language": "python",
   "name": "python3"
  },
  "language_info": {
   "codemirror_mode": {
    "name": "ipython",
    "version": 2
   },
   "file_extension": ".py",
   "mimetype": "text/x-python",
   "name": "python",
   "nbconvert_exporter": "python",
   "pygments_lexer": "ipython2",
   "version": "2.7.6"
  }
 },
 "nbformat": 4,
 "nbformat_minor": 5
}
